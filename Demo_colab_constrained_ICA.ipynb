{
 "cells": [
  {
   "cell_type": "code",
   "execution_count": null,
   "metadata": {},
   "outputs": [],
   "source": [
    "# Clone repository.\n",
    "!git clone https://github.com/simonvino/constrained_ICA.git\n",
    "%cd ./constrained_ICA/ "
   ]
  },
  {
   "cell_type": "code",
   "execution_count": null,
   "metadata": {},
   "outputs": [],
   "source": [
    "import time\n",
    "from cICA.functions import constrainedICA\n",
    "from cICA.helpers import *"
   ]
  },
  {
   "cell_type": "markdown",
   "metadata": {},
   "source": [
    "### Generate artificial signals, reference signals and signal mixtures."
   ]
  },
  {
   "cell_type": "code",
   "execution_count": null,
   "metadata": {},
   "outputs": [],
   "source": [
    "# Genrate signals.\n",
    "Sigs, Refs, X = generate_artificial_signals(n_sig=5, n_samples=20000, save_signals=True)\n",
    "\n",
    "# Plot signals.\n",
    "plot_components(Sigs=Sigs, Refs=Refs, C=X, labels=['Sig', 'Ref', 'X'],\n",
    "                titles=['Signals and References', 'Signal mixtures'],\n",
    "                n_points=150)"
   ]
  },
  {
   "cell_type": "markdown",
   "metadata": {},
   "source": [
    "### Run constrained ICA."
   ]
  },
  {
   "cell_type": "code",
   "execution_count": null,
   "metadata": {},
   "outputs": [],
   "source": [
    "thres = 0.4  # Similarity threshold.\n",
    "lr = 0.1  # Learning rate.\n",
    "obj_func = 'negentr'  # Objective function for ICA, alternatives: 'infomax', 'ext_infomax'\n",
    "gamma = 0.5  # Update step for constraint.\n",
    "mu_init = 0  # Initial Lagrange parameter.\n",
    "stop_crit = 1e-8  # Stop criterion.\n",
    "max_iter = 10000  # Maximum number of iterations.\n",
    "verbose = 100  # Print every...\n",
    "n_pca_comp = None  # If not None, runs PCA dimension reduction prior to ICA.\n",
    "n_ica_comp = 5  # Number of estimated signals.\n",
    "constraint = True  # Use similarity constraint.\n",
    "annealing_lr = 3000  # Decrease lr every...\n",
    "\n",
    "cICA = constrainedICA(thres=thres, lr=lr, mu_init=mu_init, \n",
    "                      gamma=gamma, stop_crit=stop_crit,\n",
    "                      verbose=verbose, max_iter=max_iter,\n",
    "                      constraint=constraint, n_pca_comp=n_pca_comp,\n",
    "                      n_ica_comp=n_ica_comp, obj_func=obj_func,\n",
    "                      annealing_lr=annealing_lr, whiten=True, \n",
    "                      zscore_Refs=True)\n",
    "\n",
    "start_time = time.time()\n",
    "\n",
    "Y, W, history = cICA.fit_transform(X, Refs)\n",
    "\n",
    "end_time = time.time()\n",
    "print('Finished after: {:.3f}s.'.format(end_time - start_time))"
   ]
  },
  {
   "cell_type": "code",
   "execution_count": null,
   "metadata": {},
   "outputs": [],
   "source": [
    "# Plot the original signals and estimated signals Y.\n",
    "plot_components(Sigs=Sigs, Refs=Refs, C=Y, labels=['Sig', 'Ref', 'Y'],\n",
    "                titles=['Signals and References', 'Estimated signals'], \n",
    "                n_points=150)"
   ]
  },
  {
   "cell_type": "code",
   "execution_count": null,
   "metadata": {},
   "outputs": [],
   "source": [
    "# Plot the training history.\n",
    "plot_history(history, xlim=None, thres=thres)"
   ]
  },
  {
   "cell_type": "code",
   "execution_count": null,
   "metadata": {},
   "outputs": [],
   "source": [
    "# Plot explained variance per principal component.\n",
    "plot_pca_variance(cICA.pca.explained_variance_ratio_)"
   ]
  }
 ],
 "metadata": {
  "kernelspec": {
   "display_name": "Python 3 (ipykernel)",
   "language": "python",
   "name": "python3"
  },
  "language_info": {
   "codemirror_mode": {
    "name": "ipython",
    "version": 3
   },
   "file_extension": ".py",
   "mimetype": "text/x-python",
   "name": "python",
   "nbconvert_exporter": "python",
   "pygments_lexer": "ipython3",
   "version": "3.10.4"
  }
 },
 "nbformat": 4,
 "nbformat_minor": 4
}
